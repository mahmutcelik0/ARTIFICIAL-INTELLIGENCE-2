{
 "cells": [
  {
   "cell_type": "code",
   "execution_count": 3,
   "metadata": {
    "id": "versVj8nILer"
   },
   "outputs": [],
   "source": [
    "import numpy as np\n",
    "import os\n",
    "import tensorflow as tf\n",
    "from tensorflow.keras.models import Model, Sequential\n",
    "from tensorflow.keras.layers import Dense, Activation, Input, Concatenate, Multiply\n",
    "from tensorflow.keras.metrics import binary_accuracy\n",
    "from tensorflow.keras.losses import binary_crossentropy\n",
    "from sklearn.model_selection import train_test_split\n",
    "from tensorflow.keras import backend as K\n",
    "from sklearn.metrics import accuracy_score\n",
    "from tensorflow.keras import callbacks\n",
    "from tensorflow.keras.callbacks import ModelCheckpoint\n",
    "\n",
    "tf.compat.v1.disable_eager_execution()\n",
    "\n",
    "## DataSet/EXAMPLE_DATASET/final_comparison_dataset_neural.txt\n",
    "## DataSet/EXAMPLE_DATASET/result_to_neural_250.txt \n",
    "## bu dizindeki data setler girilmelidir.\n",
    "train_path = \"/content/result_to_neural_250.txt\" \n",
    "test_path = \"/content/final_comparison_dataset_neural.txt\" \n"
   ]
  },
  {
   "cell_type": "code",
   "execution_count": 5,
   "metadata": {
    "id": "T9p5pZwRbj8n"
   },
   "outputs": [],
   "source": [
    "def read_input_file(file_path):\n",
    "    weights = []\n",
    "    values = []\n",
    "    capacities = []\n",
    "    best_picks = []\n",
    "\n",
    "    with open(file_path, 'r') as file:\n",
    "        lines = file.readlines()\n",
    "        for i in range(0, len(lines), 4):\n",
    "            # Okunan satırları boşluklarla ayrılan değerlere ayırarak diziye atama\n",
    "            value_line  = list(map(int, lines[i].split()))\n",
    "            weight_line = list(map(int, lines[i + 1].split()))\n",
    "            capacity_line = list(map(int, lines[i + 2].split()))\n",
    "            best_picks_line = list(map(int, lines[i + 3].split()))\n",
    "            \n",
    "\n",
    "            weights.append(weight_line)\n",
    "            values.append(value_line)\n",
    "            capacities.append(capacity_line)\n",
    "            best_picks.append(best_picks_line)\n",
    "\n",
    "    return weights, values, capacities, best_picks\n",
    "\n",
    "def create_knapsack_dataset(file_path, count):\n",
    "    weights, values, capacities, best_picks = read_input_file(file_path)\n",
    "    x = [[],[]]\n",
    "    y = [[]]\n",
    "    max_price = 0\n",
    "    for i in range(count):\n",
    "        \n",
    "        item_weights = weights[i]\n",
    "        item_values = values[i]\n",
    "        item_capacity = capacities[i]\n",
    "        item_count = len(item_weights)\n",
    "\n",
    "        # Max price değerlerini güncelleme\n",
    "        max_price = max(max_price, np.max(item_values))\n",
    "        \n",
    "        # Normalize prices ve weights hesaplama\n",
    "        normalized_prices = [price / max_price for price in item_values]\n",
    "        normalized_weights = [weight / item_capacity[0] for weight in item_weights]\n",
    "\n",
    "\n",
    "        x[0].append(normalized_weights)\n",
    "        x[1].append(normalized_prices)\n",
    "        y[0].append(best_picks[i])\n",
    "\n",
    "\n",
    "    return x, y"
   ]
  },
  {
   "cell_type": "code",
   "execution_count": 6,
   "metadata": {
    "id": "64JJbqPlILet"
   },
   "outputs": [],
   "source": [
    "\n",
    "X_train, y_train = create_knapsack_dataset(train_path,10000)\n",
    "X_test, y_test = create_knapsack_dataset(test_path,2000)\n"
   ]
  },
  {
   "cell_type": "code",
   "execution_count": 7,
   "metadata": {
    "id": "7QG8OCMaILeu"
   },
   "outputs": [],
   "source": [
    "def metric_overprice(input_prices):\n",
    "    def overpricing(y_true, y_pred):\n",
    "        y_pred = K.round(y_pred)\n",
    "        return K.mean(K.batch_dot(y_pred, input_prices, 1) - K.batch_dot(y_true, input_prices, 1))\n",
    "\n",
    "    return overpricing\n",
    "    \n",
    "def metric_space_violation(input_weights):\n",
    "    def space_violation(y_true, y_pred):\n",
    "        y_pred = K.round(y_pred)\n",
    "        return K.mean(K.maximum(K.batch_dot(y_pred, input_weights, 1) - 1, 0))\n",
    "    return space_violation\n"
   ]
  },
  {
   "cell_type": "code",
   "execution_count": 8,
   "metadata": {
    "id": "9EcRn-7mILeu"
   },
   "outputs": [],
   "source": [
    "earlystopping = callbacks.EarlyStopping(monitor=\"loss\",\n",
    "                                        mode=\"min\", patience=3,\n",
    "                                        restore_best_weights=True)\n",
    "\n",
    "def getResults(model):\n",
    "    train_results = model.evaluate(X_train, y_train, 100, 0)\n",
    "    test_results = model.evaluate(X_test, y_test, 100, 0);\n",
    "    print(\"Model results(Train/Test):\")\n",
    "    print(f\"Loss:               {train_results[0]:.2f} / {test_results[0]:.2f}\")\n",
    "    print(f\"Binary accuracy:    {train_results[1]:.2f} / {test_results[1]:.2f}\")\n",
    "    print(f\"Space violation:    {train_results[2]:.2f} / {test_results[2]:.2f}\")\n",
    "    print(f\"Overpricing:        {train_results[3]:.2f} / {test_results[3]:.2f}\")"
   ]
  },
  {
   "attachments": {},
   "cell_type": "markdown",
   "metadata": {
    "id": "svR4-ZZAKyxv"
   },
   "source": [
    "## One layer supervised\n"
   ]
  },
  {
   "cell_type": "code",
   "execution_count": 18,
   "metadata": {
    "id": "Ui9MhrevILeu"
   },
   "outputs": [],
   "source": [
    "def one_layer(item_count=250):\n",
    "    input_shape = (item_count,)\n",
    "    input_weights = Input(shape=input_shape)\n",
    "    input_prices = Input(shape=input_shape)\n",
    "    inputs_concat = Concatenate()([input_weights, input_prices])\n",
    "    picks = Dense(item_count, use_bias=False, activation=\"sigmoid\")(inputs_concat)\n",
    "    model = Model(inputs=[input_weights, input_prices], outputs=[picks])\n",
    "    model.compile(\"adam\",\n",
    "                  binary_crossentropy,\n",
    "                  metrics=[binary_accuracy, metric_space_violation(input_weights),\n",
    "                           metric_overprice(input_prices)])\n",
    "    return model\n",
    "model = one_layer(250)\n",
    "dot_img_file = '/tmp/model_1.png'\n",
    "tf.keras.utils.plot_model(model, to_file=dot_img_file, show_shapes=True)"
   ]
  },
  {
   "attachments": {},
   "cell_type": "markdown",
   "metadata": {
    "id": "r-9TnL4YKwUb"
   },
   "source": [
    "Eğer eğitilmiş ve kaydedilmiş ağırlık verisi varsa fit aşamasını geçebilirsiniz."
   ]
  },
  {
   "cell_type": "code",
   "execution_count": null,
   "metadata": {
    "id": "0JAgtz38KS-O"
   },
   "outputs": [],
   "source": [
    "model.fit(X_train, y_train, epochs=256, verbose=0, callbacks=[ModelCheckpoint(\"one_layer.h5\", monitor=\"loss\", save_best_only=True, save_weights_only=True),earlystopping])"
   ]
  },
  {
   "cell_type": "code",
   "execution_count": 19,
   "metadata": {
    "id": "SIgxzHbGKWSi"
   },
   "outputs": [],
   "source": [
    "model.load_weights(\"/content/one_layer.h5\")"
   ]
  },
  {
   "cell_type": "code",
   "execution_count": 20,
   "metadata": {
    "colab": {
     "base_uri": "https://localhost:8080/"
    },
    "id": "fSUVJlr-Ki3m",
    "outputId": "7a16f377-ae01-4f9b-dec4-8113e2ebe51d"
   },
   "outputs": [
    {
     "name": "stdout",
     "output_type": "stream",
     "text": [
      "Model results(Train/Test):\n",
      "Loss:               0.33 / 0.36\n",
      "Binary accuracy:    0.85 / 0.83\n",
      "Space violation:    0.26 / 0.28\n",
      "Overpricing:        7.13 / 7.22\n"
     ]
    }
   ],
   "source": [
    "getResults(model)"
   ]
  },
  {
   "attachments": {},
   "cell_type": "markdown",
   "metadata": {
    "id": "xqLaZ-fHMecz"
   },
   "source": [
    "## Two layer supervised\n"
   ]
  },
  {
   "cell_type": "code",
   "execution_count": 21,
   "metadata": {
    "id": "k_Q5cV2AILev"
   },
   "outputs": [],
   "source": [
    "def two_layer(item_count=250):\n",
    "    input_shape = (item_count,)\n",
    "    input_weights = Input(shape=input_shape)\n",
    "    input_prices = Input(shape=input_shape)\n",
    "    inputs_concat = Concatenate()([input_weights, input_prices])\n",
    "    picks = Dense(item_count * 10, use_bias=False, activation=\"sigmoid\")(inputs_concat)\n",
    "    picks = Dense(item_count, use_bias=False, activation=\"sigmoid\")(picks)\n",
    "    model = Model(inputs=[input_weights, input_prices], outputs=[picks])\n",
    "    model.compile(\"adam\",\n",
    "                  binary_crossentropy,\n",
    "                  metrics=[binary_accuracy, metric_space_violation(input_weights),\n",
    "                           metric_overprice(input_prices)])\n",
    "    return model\n",
    "model = two_layer(250)\n",
    "dot_img_file = '/tmp/model_2.png'\n",
    "tf.keras.utils.plot_model(model, to_file=dot_img_file, show_shapes=True)"
   ]
  },
  {
   "cell_type": "code",
   "execution_count": null,
   "metadata": {
    "id": "GneJ33ynMhj4"
   },
   "outputs": [],
   "source": [
    "model.fit(X_train, y_train, epochs=96, verbose=0, callbacks=[ModelCheckpoint(\"two_layer.h5\", monitor=\"loss\", save_best_only=True, save_weights_only=True),earlystopping])"
   ]
  },
  {
   "cell_type": "code",
   "execution_count": 22,
   "metadata": {
    "id": "g_90x4VqMhj5"
   },
   "outputs": [],
   "source": [
    "model.load_weights(\"/content/two_layer.h5\")"
   ]
  },
  {
   "cell_type": "code",
   "execution_count": 23,
   "metadata": {
    "colab": {
     "base_uri": "https://localhost:8080/"
    },
    "id": "9BUwjBNuMhj5",
    "outputId": "68010bc4-5f99-4df5-9788-a3c5b2a58f02"
   },
   "outputs": [
    {
     "name": "stdout",
     "output_type": "stream",
     "text": [
      "Model results(Train/Test):\n",
      "Loss:               0.15 / 0.30\n",
      "Binary accuracy:    0.95 / 0.86\n",
      "Space violation:    0.07 / 0.18\n",
      "Overpricing:        2.13 / 4.24\n"
     ]
    }
   ],
   "source": [
    "getResults(model)"
   ]
  },
  {
   "cell_type": "code",
   "execution_count": null,
   "metadata": {
    "id": "rgpa6pPlUcDz"
   },
   "outputs": [],
   "source": []
  }
 ],
 "metadata": {
  "colab": {
   "provenance": []
  },
  "kernelspec": {
   "display_name": "Python 3 (ipykernel)",
   "language": "python",
   "name": "python3"
  },
  "language_info": {
   "codemirror_mode": {
    "name": "ipython",
    "version": 3
   },
   "file_extension": ".py",
   "mimetype": "text/x-python",
   "name": "python",
   "nbconvert_exporter": "python",
   "pygments_lexer": "ipython3",
   "version": "3.10.9"
  }
 },
 "nbformat": 4,
 "nbformat_minor": 1
}
